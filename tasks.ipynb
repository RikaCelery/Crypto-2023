{
 "cells": [
  {
   "attachments": {},
   "cell_type": "markdown",
   "metadata": {},
   "source": [
    "## 基于Feistel结构构造一个分组密码算法。要求：\n",
    "1. 分组长度 = 128 bit\n",
    "2. 主密钥长度 >= 128 bit\n",
    "3. 轮数 >= 8\n",
    "4. 轮函数的设计要用到LFSR"
   ]
  },
  {
   "attachments": {},
   "cell_type": "markdown",
   "metadata": {},
   "source": [
    "## 实现一个公钥密码算法。要求分别实现如下三个算法：\n",
    "1. 密钥生成算法\n",
    "2. 加密算法\n",
    "3. 解密算法\n",
    "4. 在RSA和MH中任选一个方案\n",
    "5. 要求采用大数运算，位数>=256bit"
   ]
  },
  {
   "attachments": {},
   "cell_type": "markdown",
   "metadata": {},
   "source": [
    "## 利用第一、二次实验的算法，以数字信封的形式对明文文件进行加密。要求如下：\n",
    "1. 发送方利用系统自带的伪随机数生成函数生成会话密钥\n",
    "2. 用接收方的公钥对会话密钥加密\n",
    "3. 用会话密钥以OFB的模式对明文文件p_text.txt（文件大于1KB）进行加密，结果存于密文文件c_text.txt\n",
    "4. 接收方利用私钥解密会话密钥，然后用会话密钥对密文文件解密，结果存于明文文件p1_text.txt，最后对比p_text.txt和p1_text.txt\n"
   ]
  },
  {
   "attachments": {},
   "cell_type": "markdown",
   "metadata": {},
   "source": [
    "## 基于RSA实现如下“盲签名(Blind signature)”\n",
    "Blind signature schemes, first introduced by Chaum , allow a person to get a message signed by another party without revealing any information about the message to the other party.\n",
    "Using RSA, Chaum demonstrated the implementation of this concept as follows: \n",
    "Suppose Alice has a message m that she wishes to have signed by Bob, and she does not want Bob to learn anything about m. Let (n; e) be Bob’s public key and (n; d) be his private key.\n",
    "Alice generates a random value r such that gcd(r , n) = 1 and sends m’ = (rem) mod n to Bob. The\n",
    "value m’ is ‘‘blinded’’ by the random value r, hence Bob can derive no useful information from it.\n",
    "Bob returns the signed value s’ = m’d mod n to Alice. Since m’d = (rem)d = r*md (mod n);\n",
    "Alice can obtain the true signature s of m by computing s = r-1s’ mod n. Here r*r-1 = 1 mod n.\n",
    "Now Alice’s message has a signature she could not have obtained on her own. This signature scheme is secure provided that factoring and root extraction remains difficult. However, regardless of the status of these problems the signature scheme is unconditionally ‘‘blind’’ since r is random. The random r does not allow the signer to learn about the message even if the signer can solve the underlying hard problems.\n"
   ]
  }
 ],
 "metadata": {
  "kernelspec": {
   "display_name": "CTF37",
   "language": "python",
   "name": "python3"
  },
  "language_info": {
   "codemirror_mode": {
    "name": "ipython",
    "version": 3
   },
   "file_extension": ".py",
   "mimetype": "text/x-python",
   "name": "python",
   "nbconvert_exporter": "python",
   "pygments_lexer": "ipython3",
   "version": "3.7.16"
  },
  "orig_nbformat": 4
 },
 "nbformat": 4,
 "nbformat_minor": 2
}
