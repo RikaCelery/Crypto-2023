{
 "cells": [
  {
   "attachments": {},
   "cell_type": "markdown",
   "metadata": {},
   "source": [
    "## 基于RSA实现如下“盲签名(Blind signature)”\n",
    "Blind signature schemes, first introduced by Chaum , allow a person to get a message signed by another party without revealing any information about the message to the other party.\n",
    "Using RSA, Chaum demonstrated the implementation of this concept as follows: \n",
    "Suppose Alice has a message m that she wishes to have signed by Bob, and she does not want Bob to learn anything about m. Let (n; e) be Bob’s public key and (n; d) be his private key.\n",
    "Alice generates a random value r such that gcd(r , n) = 1 and sends m’ = (rem) mod n to Bob. The\n",
    "value m’ is ‘‘blinded’’ by the random value r, hence Bob can derive no useful information from it.\n",
    "Bob returns the signed value s’ = m’d mod n to Alice. Since m’d = (rem)d = r*md (mod n);\n",
    "Alice can obtain the true signature s of m by computing s = r-1s’ mod n. Here r*r-1 = 1 mod n.\n",
    "Now Alice’s message has a signature she could not have obtained on her own. This signature scheme is secure provided that factoring and root extraction remains difficult. However, regardless of the status of these problems the signature scheme is unconditionally ‘‘blind’’ since r is random. The random r does not allow the signer to learn about the message even if the signer can solve the underlying hard problems.\n"
   ]
  },
  {
   "cell_type": "code",
   "execution_count": 268,
   "metadata": {},
   "outputs": [],
   "source": [
    "import random\n",
    "from Crypto.Util import *\n",
    "from Crypto.Util.number import *\n",
    "import math\n",
    "import random\n",
    "from Crypto.PublicKey import RSA\n",
    "\n",
    "# 生成RSA密钥对\n",
    "def generate_key_pair():\n",
    "    p = getPrime(128)\n",
    "    q = getPrime(128)\n",
    "    # p = 285998060343527081133315154251673471283 #getPrime(128)\n",
    "    # q = 315237712832447837409600749717934211741 #getPrime(128)\n",
    "    # print(p)\n",
    "    # print(q)\n",
    "    n = p * q\n",
    "    phi_n = (p - 1) * (q - 1)\n",
    "    e = 65537  # 选择公开指数e\n",
    "    gcd = math.gcd(e, phi_n)\n",
    "    while gcd != 1:\n",
    "        e = random.randrange(1, phi_n)\n",
    "        gcd = math.gcd(e, phi_n)\n",
    "    d = inverse(e,phi_n)  # 计算私钥d\n",
    "    public_key = RSA.construct((n, e))\n",
    "    private_key = RSA.construct((n, e, d))\n",
    "    return public_key, private_key\n",
    "\n",
    "# 盲化消息\n",
    "def blind_message(message, public_key):\n",
    "    n = public_key.n\n",
    "    r = random.randint(1, n - 1)  # 选择一个随机数r\n",
    "    gcd = math.gcd(r, n)\n",
    "    while gcd != 1:\n",
    "        r = random.randrange(1, n)\n",
    "        gcd = math.gcd(e, n)\n",
    "    blind_factor = pow(r, public_key.e, n)\n",
    "    blinded_message = (message * blind_factor) % n\n",
    "    return blinded_message, r\n",
    "\n",
    "# 盲签名\n",
    "def blind_sign(blinded_message, private_key):\n",
    "    n = private_key.n\n",
    "    e = private_key.e\n",
    "    d = private_key.d\n",
    "    signature = pow(blinded_message, d, n)\n",
    "    return signature\n",
    "\n",
    "# 解盲化签名\n",
    "def unblind_signature(blinded_signature, blind_factor, public_key):\n",
    "    n = public_key.n\n",
    "    unblinded_signature = (blinded_signature * inverse(blind_factor, n)) % n\n",
    "    return unblinded_signature\n"
   ]
  },
  {
   "cell_type": "code",
   "execution_count": 269,
   "metadata": {},
   "outputs": [
    {
     "name": "stdout",
     "output_type": "stream",
     "text": [
      "原始消息: 12345\n",
      "盲化后的消息: 24699475468059137096928389189418748420266519524510023235717340226618603457663\n",
      "盲签名后的消息: 7677992836499766315748916027132740404428902176664119628726530787994200882440\n",
      "解盲化签名后的消息: 38521009931625704057901262443876107601027897208231065206308804837415005800426\n"
     ]
    }
   ],
   "source": [
    "# 示例\n",
    "message = 12345\n",
    "# 生成密钥对\n",
    "public_key, private_key = generate_key_pair()\n",
    "# 盲化消息\n",
    "blinded_message, blind_factor = blind_message(message, public_key)\n",
    "# 盲签名\n",
    "blinded_signature = blind_sign(blinded_message, private_key)\n",
    "# 解盲化签名\n",
    "signature = unblind_signature(blinded_signature, blind_factor, public_key)\n",
    "\n",
    "print(\"原始消息:\", message)\n",
    "print(\"盲化后的消息:\", blinded_message)\n",
    "print(\"盲签名后的消息:\", blinded_signature)\n",
    "print(\"解盲化签名后的消息:\", signature)"
   ]
  },
  {
   "cell_type": "code",
   "execution_count": 270,
   "metadata": {},
   "outputs": [],
   "source": [
    "# 生成密钥对\n",
    "public_key, private_key = generate_key_pair()"
   ]
  },
  {
   "cell_type": "code",
   "execution_count": 271,
   "metadata": {},
   "outputs": [
    {
     "name": "stdout",
     "output_type": "stream",
     "text": [
      "原始消息: ...\n",
      "盲化后的消息: 12641458535255181169334979667776220868583844427016299734308861845633512619933\n",
      "盲签名后的消息: 15243334944684002739778842223818289011998755877863389574785337764533038905984\n",
      "解盲化签名后的消息: 27988150930747368293356163281279027354181373083268156920856038025723766324046\n"
     ]
    }
   ],
   "source": [
    "raw_text = \"\"\"Blind signature schemes, first introduced by Chaum , allow a person to get a message signed by another party without revealing any information about the message to the other party.\n",
    "Using RSA, Chaum demonstrated the implementation of this concept as follows: \n",
    "Suppose Alice has a message m that she wishes to have signed by Bob, and she does not want Bob to learn anything about m. Let (n; e) be Bob’s public key and (n; d) be his private key.\n",
    "Alice generates a random value r such that gcd(r , n) = 1 and sends m’ = (rem) mod n to Bob. The\n",
    "value m’ is ‘‘blinded’’ by the random value r, hence Bob can derive no useful information from it.\n",
    "Bob returns the signed value s’ = m’d mod n to Alice. Since m’d = (rem)d = r*md (mod n);\n",
    "Alice can obtain the true signature s of m by computing s = r-1s’ mod n. Here r*r-1 = 1 mod n.\n",
    "Now Alice’s message has a signature she could not have obtained on her own. This signature scheme is secure provided that factoring and root extraction remains difficult. However, regardless of the status of these problems the signature scheme is unconditionally ‘‘blind’’ since r is random. The random r does not allow the signer to learn about the message even if the signer can solve the underlying hard problems.\"\"\"\n",
    "message = bytes_to_long(raw_text.encode())\n",
    "# 盲化消息\n",
    "blinded_message, blind_factor = blind_message(message, public_key)\n",
    "# 盲签名\n",
    "blinded_signature = blind_sign(blinded_message, private_key)\n",
    "# 解盲化签名\n",
    "signature = unblind_signature(blinded_signature, blind_factor, public_key)\n",
    "\n",
    "print(\"原始消息:\", \"...\")\n",
    "print(\"盲化后的消息:\", blinded_message)\n",
    "print(\"盲签名后的消息:\", blinded_signature)\n",
    "print(\"解盲化签名后的消息:\", signature)"
   ]
  },
  {
   "cell_type": "code",
   "execution_count": 272,
   "metadata": {},
   "outputs": [
    {
     "name": "stdout",
     "output_type": "stream",
     "text": [
      "原始消息: ...\n",
      "盲化后的消息: 5785252765489820762390339276249777348245167871351000404159633458079118381230\n",
      "盲签名后的消息: 32323658836304989380605987317611001837595965411550100345851371607194816055798\n",
      "解盲化签名后的消息: 27988150930747368293356163281279027354181373083268156920856038025723766324046\n"
     ]
    }
   ],
   "source": [
    "# 盲化消息\n",
    "blinded_message, blind_factor = blind_message(message, public_key)\n",
    "# 盲签名\n",
    "blinded_signature = blind_sign(blinded_message, private_key)\n",
    "# 解盲化签名\n",
    "signature = unblind_signature(blinded_signature, blind_factor, public_key)\n",
    "\n",
    "print(\"原始消息:\", \"...\")\n",
    "print(\"盲化后的消息:\", blinded_message)\n",
    "print(\"盲签名后的消息:\", blinded_signature)\n",
    "print(\"解盲化签名后的消息:\", signature)"
   ]
  }
 ],
 "metadata": {
  "kernelspec": {
   "display_name": "Python 3",
   "language": "python",
   "name": "python3"
  },
  "language_info": {
   "codemirror_mode": {
    "name": "ipython",
    "version": 3
   },
   "file_extension": ".py",
   "mimetype": "text/x-python",
   "name": "python",
   "nbconvert_exporter": "python",
   "pygments_lexer": "ipython3",
   "version": "3.7.16"
  },
  "orig_nbformat": 4
 },
 "nbformat": 4,
 "nbformat_minor": 2
}
