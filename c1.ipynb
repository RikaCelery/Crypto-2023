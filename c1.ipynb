{
 "cells": [
  {
   "attachments": {},
   "cell_type": "markdown",
   "metadata": {
    "collapsed": false
   },
   "source": [
    "## 基于Feistel结构构造一个分组密码算法。要求：\n",
    "1. 分组长度 = 128 bit\n",
    "2. 主密钥长度 >= 128 bit\n",
    "3. 轮数 >= 8\n",
    "4. 轮函数的设计要用到LFSR"
   ]
  },
  {
   "cell_type": "code",
   "execution_count": 2,
   "metadata": {
    "ExecuteTime": {
     "end_time": "2023-05-24T11:32:31.090102Z",
     "start_time": "2023-05-24T11:32:31.077811Z"
    },
    "collapsed": true
   },
   "outputs": [],
   "source": [
    "BLOCK_SIZE = 128\n",
    "LOOP = 8\n",
    "\n",
    "\n",
    "def feistel_encrypt(input_bytes: bytes, key, F):\n",
    "    output = bytes()\n",
    "    left_half = input_bytes[BLOCK_SIZE // 2:]\n",
    "    right_half = input_bytes[:BLOCK_SIZE // 2]\n",
    "\n",
    "    left_half_output = right_half\n",
    "    function_output = F(left_half_output, key)  # TODO i need a key generate function\n",
    "    right_half_output = [pair1 ^ pair2 for pair1, pair2 in zip(left_half, function_output)]\n",
    "\n",
    "    output += bytes(left_half_output)\n",
    "    output += bytes(right_half_output)\n",
    "    return output\n",
    "\n",
    "\n",
    "def feistel_decrypt(input_bytes: bytes, key, F):\n",
    "    output = bytes()\n",
    "    left_half = input_bytes[:BLOCK_SIZE // 2]\n",
    "    right_half = input_bytes[BLOCK_SIZE // 2:]\n",
    "\n",
    "    left_half_output = right_half\n",
    "    function_output = F(left_half_output, key)  # TODO i need a key generate function\n",
    "    right_half_output = [pair1 ^ pair2 for pair1, pair2 in zip(left_half, function_output)]\n",
    "\n",
    "    output += bytes(right_half_output)\n",
    "    output += bytes(left_half_output)\n",
    "    return output\n",
    "\n",
    "# 交换左右部分的字节\n",
    "def exchange(input: bytes):\n",
    "    a = input[BLOCK_SIZE // 2:]\n",
    "    a += input[:BLOCK_SIZE // 2]\n",
    "    return a\n",
    "\n"
   ]
  },
  {
   "cell_type": "code",
   "execution_count": 3,
   "metadata": {
    "ExecuteTime": {
     "end_time": "2023-05-24T11:32:31.110564Z",
     "start_time": "2023-05-24T11:32:31.091613Z"
    },
    "collapsed": false
   },
   "outputs": [],
   "source": [
    "def F_function(input_bytes: bytes, key: bytes):\n",
    "    out = []\n",
    "    for i in range(len(input_bytes)):\n",
    "        out.append(input_bytes[i] ^ key[i % len(key)])\n",
    "    return bytes(out)"
   ]
  },
  {
   "cell_type": "code",
   "execution_count": 4,
   "metadata": {},
   "outputs": [],
   "source": [
    "def get_bits(num):\n",
    "    bits = []\n",
    "    while num > 0:\n",
    "        bits.append(num & 1)  # 使用位与操作符提取最低位的值\n",
    "        num >>= 1  # 将数字右移一位\n",
    "    bits.reverse()  # 将结果反转，使得最高位在最前面\n",
    "    return bits\n",
    "\n",
    "class LFSR:\n",
    "    def __init__(self, tap_positions, seed:bytes):\n",
    "        self.tap_positions = tap_positions\n",
    "        self.seed = seed\n",
    "        self.register = seed\n",
    "        self._move_length_ = seed.bit_length()-1\n",
    "        self.debug = False\n",
    "\n",
    "    def shift_get_bytes(self):\n",
    "        shift = self.shift()\n",
    "        return shift.to_bytes((self._move_length_+1+7)//8,\"big\")\n",
    "    def reset(self):\n",
    "        self.register =self.seed\n",
    "    def shift(self):\n",
    "        if self.debug:\n",
    "            print(\"before: {}\".format(get_bits(self.register)))\n",
    "        feedback = 0\n",
    "        for position in self.tap_positions:\n",
    "            feedback ^= (self.register >> position) & 1\n",
    "        self.register = (self.register >> 1) | (feedback << self._move_length_)\n",
    "        if self.debug:\n",
    "            print(\"after : {}\".format(get_bits(self.register)))\n",
    "            print(\"--------------\")\n",
    "        return self.register"
   ]
  },
  {
   "cell_type": "code",
   "execution_count": 5,
   "metadata": {
    "ExecuteTime": {
     "end_time": "2023-05-24T11:32:31.120601Z",
     "start_time": "2023-05-24T11:32:31.107556Z"
    }
   },
   "outputs": [],
   "source": [
    "\n",
    "def block_encrypt(block: bytes,lfsr:LFSR):\n",
    "    assert len(block) == BLOCK_SIZE\n",
    "    cipher = block\n",
    "    for n in range(LOOP):\n",
    "        cipher = feistel_encrypt(cipher, lfsr.shift_get_bytes(), F_function)\n",
    "    cipher = exchange(cipher)\n",
    "    return bytes(cipher)\n",
    "\n",
    "\n",
    "def block_decrypt(block: bytes,lfsr:LFSR):\n",
    "    msg_ = block\n",
    "    keys = [lfsr.shift_get_bytes() for _ in range(LOOP)]\n",
    "    for n in range(LOOP, 0, -1):\n",
    "        msg_ = feistel_decrypt(msg_, keys[(n - 1) % len(keys)], F_function)\n",
    "    msg_ = exchange(msg_)\n",
    "    return bytes(msg_)\n"
   ]
  },
  {
   "cell_type": "code",
   "execution_count": 6,
   "metadata": {
    "ExecuteTime": {
     "end_time": "2023-05-24T11:32:31.165918Z",
     "start_time": "2023-05-24T11:32:31.125610Z"
    },
    "collapsed": false
   },
   "outputs": [],
   "source": [
    "def slice_arr(arr, size):\n",
    "    s = []\n",
    "    for i in range(0, int(len(arr)) + 1, size):\n",
    "        c = arr[i:i + size]\n",
    "        if not len(c) == 0:\n",
    "            s.append(c)\n",
    "    return s\n",
    "\n",
    "\n",
    "def encrypt(message: bytes,key:bytes,tap_positions):\n",
    "    blocks = slice_arr(message, BLOCK_SIZE)\n",
    "    encrypted_blocks = bytes()\n",
    "    tail_fill = 0\n",
    "    lfsr = LFSR(tap_positions,int.from_bytes(key,\"big\"))\n",
    "    for enc_ in blocks:\n",
    "        if len(enc_) < BLOCK_SIZE:\n",
    "            tail_fill = BLOCK_SIZE - len(enc_)\n",
    "            encrypted_blocks += (block_encrypt(enc_.zfill(BLOCK_SIZE),lfsr))\n",
    "        else:\n",
    "            encrypted_blocks += (block_encrypt(bytes(enc_),lfsr))\n",
    "    return encrypted_blocks, tail_fill\n",
    "\n",
    "\n",
    "def decrypt(message: bytes,key:bytes,tap_positions, tail_fill: int):\n",
    "    blocks = slice_arr(message, BLOCK_SIZE)\n",
    "    decrypted_blocks = bytes()\n",
    "    lfsr = LFSR(tap_positions,int.from_bytes(key,\"big\"))\n",
    "    for n in range(len(blocks) - 1):\n",
    "        decrypted_blocks += block_decrypt(bytes(blocks[n]),lfsr)\n",
    "    decrypted_blocks += (block_decrypt(blocks[-1],lfsr))[tail_fill:]\n",
    "    return bytes(decrypted_blocks)\n",
    "\n",
    "\n"
   ]
  },
  {
   "cell_type": "code",
   "execution_count": 8,
   "metadata": {
    "ExecuteTime": {
     "end_time": "2023-05-24T11:32:31.175434Z",
     "start_time": "2023-05-24T11:32:31.137369Z"
    },
    "collapsed": false
   },
   "outputs": [
    {
     "name": "stdout",
     "output_type": "stream",
     "text": [
      "b'\\x0bO\\xcf\\xce2\\xc2\\xc2\\xfd\\xcf3\\xce\\xcb\\xcf5\\x95\\x94l\\x8b\\x98\\x9e\\x99l\\xa7siQ\\x1e\\x8c\\x89h\\x9e\\x96\\xa5\\x94p\\x9c\\x93\\x89?\\xcf\\xc9h\\x93\\xcc\\xc9\\xcf4\\xfd0hP\\x11\\x95\\x90h\\x9c\\x98\\xa3\\x95m\\x94\\x95\\x9et0000000000000000000000000000000000000000000000000000000000000000'\n",
      "b'okhudgfhjskjaswjldhksbhv:56lm000000jknjnjnjnjnjnaq'\n"
     ]
    }
   ],
   "source": [
    "msg_origin = b\"okhudgfhjskjaswjldhksbhv:56lm000000jknjnjnjnjnjnaq\"\n",
    "key = b\"aaacdsd237489789472894ccd\"\n",
    "tap_position = [1,3,4,9]\n",
    "enc, fill = encrypt(msg_origin,key,tap_position)\n",
    "msg = decrypt(enc,key,tap_position, fill)\n",
    "print(enc)\n",
    "print(msg)\n",
    "assert msg==msg_origin"
   ]
  }
 ],
 "metadata": {
  "kernelspec": {
   "display_name": "Python 3",
   "language": "python",
   "name": "python3"
  },
  "language_info": {
   "codemirror_mode": {
    "name": "ipython",
    "version": 3
   },
   "file_extension": ".py",
   "mimetype": "text/x-python",
   "name": "python",
   "nbconvert_exporter": "python",
   "pygments_lexer": "ipython3",
   "version": "3.7.16"
  }
 },
 "nbformat": 4,
 "nbformat_minor": 0
}
