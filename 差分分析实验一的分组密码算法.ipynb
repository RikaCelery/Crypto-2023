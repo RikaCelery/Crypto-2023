{
 "cells": [
  {
   "cell_type": "markdown",
   "metadata": {},
   "source": [
    "# 差分分析实验一的分组密码算法。要求：\n",
    "1. 分组长度 = 128 bit\n",
    "2. 主密钥长度 >= 128 bit\n",
    "3. 轮数 =1\n",
    "4. 附加：分组算法轮函数引入S盒"
   ]
  },
  {
   "cell_type": "markdown",
   "metadata": {},
   "source": [
    "## 首先对实验一对算法加以改造\n",
    "+ 修改轮数为1\n",
    "+ S盒"
   ]
  },
  {
   "cell_type": "code",
   "execution_count": 116,
   "metadata": {},
   "outputs": [],
   "source": [
    "BLOCK_SIZE = 128 //8\n",
    "LOOP = 1\n",
    "\n",
    "sbox = [3, 14, 1, 10, 4, 9, 5, 6, 8, 11, 15, 2, 13, 12, 0, 7]\n",
    "sbox_rev = [14, 2, 11, 0, 4, 6, 7, 15, 8, 5, 3, 9, 13, 12, 1, 10]\n",
    "def F_function(input_bytes: bytes, key: bytes):\n",
    "    out = []\n",
    "    for i in range(len(input_bytes)):\n",
    "        # print(hex(input_bytes[i]))\n",
    "        # replaced = sbox[input_bytes[i]>>4]+sbox[input_bytes[i]&0xf]\n",
    "        # replaced = input_bytes[i]\n",
    "        # print(hex(input_bytes[i]),hex(replaced))\n",
    "        replaced = sbox[input_bytes[i]>>4]\n",
    "        out.append(replaced ^ key[i % len(key)])\n",
    "        replaced = sbox[input_bytes[i]&0xf]\n",
    "        out.append(replaced ^ key[i % len(key)])\n",
    "    # print(out)\n",
    "    # print(bytes(out).hex())\n",
    "    return bytes(out)\n",
    "\n"
   ]
  },
  {
   "cell_type": "code",
   "execution_count": 117,
   "metadata": {},
   "outputs": [],
   "source": [
    "def feistel_encrypt(input_bytes: bytes, key, F):\n",
    "    output = bytes()\n",
    "    left_half = input_bytes[BLOCK_SIZE // 2:]\n",
    "    right_half = input_bytes[:BLOCK_SIZE // 2]\n",
    "\n",
    "    left_half_output = right_half\n",
    "    function_output = F(left_half_output, key)  # TODO i need a key generate function\n",
    "    right_half_output = [pair1 ^ pair2 for pair1, pair2 in zip(left_half, function_output)]\n",
    "\n",
    "    output += bytes(left_half_output)\n",
    "    output += bytes(right_half_output)\n",
    "    return output\n",
    "\n",
    "\n",
    "def feistel_decrypt(input_bytes: bytes, key, F):\n",
    "    output = bytes()\n",
    "    left_half = input_bytes[:BLOCK_SIZE // 2]\n",
    "    right_half = input_bytes[BLOCK_SIZE // 2:]\n",
    "\n",
    "    left_half_output = right_half\n",
    "    function_output = F(left_half_output, key)  # TODO i need a key generate function\n",
    "    right_half_output = [pair1 ^ pair2 for pair1, pair2 in zip(left_half, function_output)]\n",
    "\n",
    "    output += bytes(right_half_output)\n",
    "    output += bytes(left_half_output)\n",
    "    return output\n",
    "\n",
    "# 交换左右部分的字节\n",
    "def exchange(input: bytes):\n",
    "    a = input[BLOCK_SIZE // 2:]\n",
    "    a += input[:BLOCK_SIZE // 2]\n",
    "    return a\n",
    "def get_bits(num):\n",
    "    bits = []\n",
    "    while num > 0:\n",
    "        bits.append(num & 1)  # 使用位与操作符提取最低位的值\n",
    "        num >>= 1  # 将数字右移一位\n",
    "    bits.reverse()  # 将结果反转，使得最高位在最前面\n",
    "    return bits\n",
    "\n",
    "class LFSR:\n",
    "    def __init__(self, tap_positions, seed:int):\n",
    "        self.tap_positions = tap_positions\n",
    "        self.seed = seed\n",
    "        self.register = seed\n",
    "        self._move_length_ = seed.bit_length()-1\n",
    "        self.debug = False\n",
    "\n",
    "    def shift_get_bytes(self):\n",
    "        shift = self.shift()\n",
    "        return shift.to_bytes((self._move_length_+1+7)//8,\"big\")\n",
    "    def reset(self):\n",
    "        self.register =self.seed\n",
    "    def shift(self):\n",
    "        if self.debug:\n",
    "            print(\"before: {}\".format(get_bits(self.register)))\n",
    "        feedback = 0\n",
    "        for position in self.tap_positions:\n",
    "            feedback ^= (self.register >> position) & 1\n",
    "        self.register = (self.register >> 1) | (feedback << self._move_length_)\n",
    "        if self.debug:\n",
    "            print(\"after : {}\".format(get_bits(self.register)))\n",
    "            print(\"--------------\")\n",
    "        return self.register\n",
    "\n",
    "def block_encrypt(block: bytes,lfsr:LFSR):\n",
    "    assert len(block) == BLOCK_SIZE\n",
    "    cipher = block\n",
    "    for n in range(LOOP):\n",
    "        cipher = feistel_encrypt(cipher, lfsr.shift_get_bytes(), F_function)\n",
    "    cipher = exchange(cipher)\n",
    "    return bytes(cipher)\n",
    "\n",
    "\n",
    "def block_decrypt(block: bytes,lfsr:LFSR):\n",
    "    msg_ = block\n",
    "    keys = [lfsr.shift_get_bytes() for _ in range(LOOP)]\n",
    "    for n in range(LOOP, 0, -1):\n",
    "        msg_ = feistel_decrypt(msg_, keys[(n - 1) % len(keys)], F_function)\n",
    "    msg_ = exchange(msg_)\n",
    "    return bytes(msg_)\n",
    "def slice_arr(arr, size):\n",
    "    s = []\n",
    "    for i in range(0, int(len(arr)) + 1, size):\n",
    "        c = arr[i:i + size]\n",
    "        if not len(c) == 0:\n",
    "            s.append(c)\n",
    "    return s\n",
    "\n",
    "\n",
    "def encrypt(message: bytes,key:bytes,tap_positions):\n",
    "    blocks = slice_arr(message, BLOCK_SIZE)\n",
    "    encrypted_blocks = bytes()\n",
    "    tail_fill = 0\n",
    "    lfsr = LFSR(tap_positions,int.from_bytes(key,\"big\"))\n",
    "    for enc_ in blocks:\n",
    "        if len(enc_) < BLOCK_SIZE:\n",
    "            tail_fill = BLOCK_SIZE - len(enc_)\n",
    "            encrypted_blocks += (block_encrypt(enc_.zfill(BLOCK_SIZE),lfsr))\n",
    "        else:\n",
    "            encrypted_blocks += (block_encrypt(bytes(enc_),lfsr))\n",
    "    return encrypted_blocks, tail_fill\n",
    "\n",
    "\n",
    "def decrypt(message: bytes,key:bytes,tap_positions, tail_fill: int):\n",
    "    blocks = slice_arr(message, BLOCK_SIZE)\n",
    "    decrypted_blocks = bytes()\n",
    "    lfsr = LFSR(tap_positions,int.from_bytes(key,\"big\"))\n",
    "    for n in range(len(blocks) - 1):\n",
    "        decrypted_blocks += block_decrypt(bytes(blocks[n]),lfsr)\n",
    "    decrypted_blocks += (block_decrypt(blocks[-1],lfsr))[tail_fill:]\n",
    "    return bytes(decrypted_blocks)\n"
   ]
  },
  {
   "cell_type": "code",
   "execution_count": 118,
   "metadata": {},
   "outputs": [
    {
     "name": "stdout",
     "output_type": "stream",
     "text": [
      "0d555f57d4dc7c743030303030303030\n",
      "b'abcdefg'\n"
     ]
    }
   ],
   "source": [
    "msg_origin = b\"abcdefg\"\n",
    "key = b\"not happy\"\n",
    "tap_position = [1,3,4,9]\n",
    "enc, fill = encrypt(msg_origin,key,tap_position)\n",
    "msg = decrypt(enc,key,tap_position, fill)\n",
    "print(enc.hex())\n",
    "print(msg)\n",
    "assert msg==msg_origin"
   ]
  },
  {
   "cell_type": "markdown",
   "metadata": {},
   "source": [
    "## 差分分析\n",
    "### 生成DDT"
   ]
  },
  {
   "cell_type": "code",
   "execution_count": 119,
   "metadata": {},
   "outputs": [
    {
     "data": {
      "text/plain": [
       "[[16, 0, 0, 0, 0, 0, 0, 0, 0, 0, 0, 0, 0, 0, 0, 0],\n",
       " [0, 2, 0, 4, 0, 0, 0, 2, 0, 0, 0, 2, 0, 6, 0, 0],\n",
       " [0, 2, 2, 0, 2, 0, 0, 2, 0, 2, 0, 2, 0, 2, 0, 2],\n",
       " [0, 0, 2, 0, 2, 0, 0, 0, 0, 2, 4, 0, 4, 0, 0, 2],\n",
       " [0, 0, 0, 0, 2, 4, 0, 6, 0, 0, 0, 0, 2, 0, 0, 2],\n",
       " [0, 0, 2, 0, 2, 0, 2, 2, 2, 0, 4, 0, 0, 0, 0, 2],\n",
       " [0, 0, 2, 2, 0, 2, 2, 0, 4, 0, 0, 0, 2, 0, 2, 0],\n",
       " [0, 0, 0, 2, 0, 2, 0, 0, 2, 0, 0, 4, 0, 0, 2, 4],\n",
       " [0, 2, 0, 0, 0, 6, 0, 0, 2, 2, 0, 2, 0, 0, 2, 0],\n",
       " [0, 0, 2, 2, 2, 2, 4, 0, 4, 0, 0, 0, 0, 0, 0, 0],\n",
       " [0, 2, 0, 0, 2, 0, 0, 0, 2, 2, 2, 0, 4, 0, 2, 0],\n",
       " [0, 4, 2, 2, 0, 0, 0, 0, 0, 4, 2, 2, 0, 0, 0, 0],\n",
       " [0, 2, 4, 0, 2, 0, 0, 0, 0, 0, 2, 0, 2, 2, 2, 0],\n",
       " [0, 2, 0, 2, 0, 0, 2, 2, 0, 2, 2, 0, 0, 0, 0, 4],\n",
       " [0, 0, 0, 2, 0, 0, 2, 0, 0, 2, 0, 4, 2, 4, 0, 0],\n",
       " [0, 0, 0, 0, 2, 0, 4, 2, 0, 0, 0, 0, 0, 2, 6, 0]]"
      ]
     },
     "execution_count": 119,
     "metadata": {},
     "output_type": "execute_result"
    }
   ],
   "source": [
    "DDT = [[0 for _ in range(16)] for _ in range(16)]\n",
    "for c in range(16):\n",
    "    for d in range(16):\n",
    "        DDT[c ^ d][sbox[c] ^ sbox[d]] += 1\n",
    "DDT"
   ]
  },
  {
   "cell_type": "markdown",
   "metadata": {},
   "source": [
    "### 分析输出差分"
   ]
  },
  {
   "cell_type": "code",
   "execution_count": 153,
   "metadata": {},
   "outputs": [
    {
     "name": "stdout",
     "output_type": "stream",
     "text": [
      "b'\\x00\\x00\\x01\\x10'\n",
      "b'\\x04\\x04\\x05\\x14'\n",
      "333a333a030a021a3030303030303030\n",
      "333a333a070e061e3030303030303030\n",
      "0\n",
      "0\n",
      "0\n",
      "0\n",
      "0\n",
      "0\n",
      "0\n",
      "0\n",
      "0\n",
      "4\n",
      "0\n",
      "4\n",
      "0\n",
      "4\n",
      "0\n",
      "4\n",
      "0\n",
      "0\n",
      "0\n",
      "0\n",
      "0\n",
      "0\n"
     ]
    }
   ],
   "source": [
    "msg_origin = b\"\\x00\\x00\\x01\\x10\"\n",
    "msg_origin_xor = bytes([b ^ 4 for b in msg_origin])\n",
    "key = b\"\\x12\"\n",
    "tap_position = [1,3,4,9]\n",
    "enc, fill = encrypt(msg_origin,key,tap_position)\n",
    "enc1, fill1 = encrypt(msg_origin_xor,key,tap_position)\n",
    "# msg = decrypt(enc,key,tap_position, fill)\n",
    "print(msg_origin)\n",
    "print(msg_origin_xor)\n",
    "print(enc.hex())\n",
    "print(enc1.hex())\n",
    "for i,v in enumerate(enc):\n",
    "    # print(hex(enc[i]))\n",
    "    print((enc[i]>>4)^(enc1[i]>>4))\n",
    "    print((enc[i]&0xf)^(enc1[i]&0xf))\n",
    "    if i//2 > len(enc)-fill:\n",
    "        break\n"
   ]
  },
  {
   "cell_type": "code",
   "execution_count": 114,
   "metadata": {},
   "outputs": [
    {
     "name": "stdout",
     "output_type": "stream",
     "text": [
      "\n",
      "Generating possible intermediate values based on differential(6 --> 6):\n",
      "  Possibles:   0 ^ 6 = 6 --> 3 + 5\n",
      "  Possibles:   6 ^ 6 = 0 --> 5 + 3\n"
     ]
    },
    {
     "data": {
      "text/plain": [
       "[0, 6, 0, 0, 0, 0, 0, 0, 0, 0, 0, 0, 0, 0, 0, 0]"
      ]
     },
     "execution_count": 114,
     "metadata": {},
     "output_type": "execute_result"
    }
   ],
   "source": [
    "\n",
    "chardat0 = [0] * 16\n",
    "chardatmax = 0\n",
    "\n",
    "def gen_char_data(indiff, outdiff):\n",
    "    print(f\"\\nGenerating possible intermediate values based on differential({indiff} --> {outdiff}):\")\n",
    "    \n",
    "    global chardatmax\n",
    "    chardatmax = 0\n",
    "    for f in range(16):\n",
    "        my_comp = f ^ indiff\n",
    "        \n",
    "        if (sbox[f] ^ sbox[my_comp]) == outdiff:\n",
    "            print(f\"  Possibles:   {f} ^ {indiff} = {my_comp} --> {sbox[f]} + {sbox[my_comp]}\")\n",
    "            chardat0[chardatmax] = f\n",
    "            chardatmax += 1\n",
    "gen_char_data(6,6)\n",
    "chardat0"
   ]
  }
 ],
 "metadata": {
  "kernelspec": {
   "display_name": "ctf309",
   "language": "python",
   "name": "python3"
  },
  "language_info": {
   "codemirror_mode": {
    "name": "ipython",
    "version": 3
   },
   "file_extension": ".py",
   "mimetype": "text/x-python",
   "name": "python",
   "nbconvert_exporter": "python",
   "pygments_lexer": "ipython3",
   "version": "3.9.18"
  }
 },
 "nbformat": 4,
 "nbformat_minor": 2
}
