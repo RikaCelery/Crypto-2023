{
 "cells": [
  {
   "attachments": {},
   "cell_type": "markdown",
   "metadata": {
    "collapsed": false
   },
   "source": [
    "## 利用第一、二次实验的算法，以数字信封的形式对明文文件进行加密。要求如下：\n",
    "1. 发送方利用系统自带的伪随机数生成函数生成会话密钥\n",
    "2. 用接收方的公钥对会话密钥加密\n",
    "3. 用会话密钥以OFB的模式对明文文件p_text.txt（文件大于1KB）进行加密，结果存于密文文件c_text.txt\n",
    "4. 接收方利用私钥解密会话密钥，然后用会话密钥对密文文件解密，结果存于明文文件p1_text.txt，最后对比p_text.txt和p1_text.txt\n"
   ]
  },
  {
   "cell_type": "code",
   "execution_count": 4,
   "metadata": {},
   "outputs": [],
   "source": [
    "import matplotlib as mpl\n",
    "from c2 import *\n",
    "from c1 import encrypt as encrypt_fesital\n",
    "import tqdm\n",
    "# from c1 import decrypt as decryptd_fesital\n",
    "# # 接收到后解密\n",
    "# iv = b'yuasgfduygduyagduya2783yyrfhiuwdyq987wyd2768iuqbhgixduybwsyudicb'\n",
    "# total = b'asiduHYFjuasdhfskjaidhfak,jsnfdkjdfjkhdsjkafhsdkjafhjkdhfks'\n",
    "# j = 17\n",
    "def OFB_encrypt_or_decrypt(init_iv:bytes,j:int,total:bytes):\n",
    "    result = bytes()\n",
    "    iv = init_iv\n",
    "    for idx in tqdm.tqdm(range(0,len(total),j)):\n",
    "        p = total[idx:idx+j]\n",
    "        iv_enc,_ = encrypt_fesital(iv,init_iv,[1,2,4])\n",
    "        picked_j = iv_enc[:j]\n",
    "        iv = iv[j:]+picked_j\n",
    "        c = bytes([a^b for a,b in zip(p,iv)])\n",
    "        result+=(c)\n",
    "        # print((c))\n",
    "    return result\n",
    "# resulta = OFB_encrypt_or_decrypt(b'yuasgfduygduyagduya2783yyrfhiuwdyq987wyd2768iuqbhgixduybwsyudicb',17,b'asiduHYFjuasdhfskjaidhfak,jsnfdkjdfjkhdsjkafhsdkjafhjkdhfks')\n",
    "# print(resulta)\n",
    "# OFB_encrypt_or_decrypt(b'yuasgfduygduyagduya2783yyrfhiuwdyq987wyd2768iuqbhgixduybwsyudicb',17,resulta)\n"
   ]
  },
  {
   "cell_type": "code",
   "execution_count": 5,
   "metadata": {},
   "outputs": [
    {
     "name": "stderr",
     "output_type": "stream",
     "text": [
      "100%|██████████| 140/140 [00:00<00:00, 15104.11it/s]"
     ]
    },
    {
     "name": "stderr",
     "output_type": "stream",
     "text": [
      "\n"
     ]
    },
    {
     "name": "stdout",
     "output_type": "stream",
     "text": [
      "b'yuasgfduygduyagduya2783yyrfhiuwdyq987wyd2768iuqbhgixduybwsyudicb'\n"
     ]
    },
    {
     "name": "stderr",
     "output_type": "stream",
     "text": [
      "100%|██████████| 70/70 [00:00<00:00, 17461.72it/s]\n"
     ]
    }
   ],
   "source": [
    "enc_key = b\"yuasgfduygduyagduya2783yyrfhiuwdyq987wyd2768iuqbhgixduybwsyudicb\"\n",
    "file = open('./p_text.txt','rb')\n",
    "plain_message = file.read()\n",
    "file.close()\n",
    "OFB_encrypted_message = OFB_encrypt_or_decrypt(enc_key,128,plain_message)\n",
    "file = open('./c_text.txt','wb')\n",
    "file.write(OFB_encrypted_message)\n",
    "file.close()\n",
    "\n",
    "file = open('./c_text.txt','rb')\n",
    "OFB_encrypted_message = file.read()\n",
    "file.close()\n",
    "print(enc_key)\n",
    "decrypted_message = OFB_encrypt_or_decrypt(enc_key,128,OFB_encrypted_message)\n",
    "\n",
    "file = open('./p1_text.txt','wb')\n",
    "file.write(decrypted_message)\n",
    "file.close()"
   ]
  },
  {
   "cell_type": "code",
   "execution_count": 6,
   "metadata": {},
   "outputs": [
    {
     "name": "stderr",
     "output_type": "stream",
     "text": [
      "100%|██████████| 1051/1051 [00:00<00:00, 18447.03it/s]\n"
     ]
    },
    {
     "name": "stdout",
     "output_type": "stream",
     "text": [
      "b'yuasgfduygduyagduya2783yyrfhiuwdyq987wyd2768iuqbhgixduybwsyudicb'\n"
     ]
    },
    {
     "name": "stderr",
     "output_type": "stream",
     "text": [
      "100%|██████████| 1051/1051 [00:00<00:00, 16617.46it/s]\n"
     ]
    }
   ],
   "source": [
    "file = open('./p_text.txt','rb')\n",
    "plain_message = file.read()\n",
    "file.close()\n",
    "\n",
    "# 生成密钥对\n",
    "public_key_pair, private_key_pair = get_key_pair(512)\n",
    "enc_key = encrypt(b\"yuasgfduygduyagduya2783yyrfhiuwdyq987wyd2768iuqbhgixduybwsyudicb\", public_key_pair)\n",
    "\n",
    "OFB_encrypted_message = OFB_encrypt_or_decrypt(b\"yuasgfduygduyagduya2783yyrfhiuwdyq987wyd2768iuqbhgixduybwsyudicb\",17,plain_message)\n",
    "\n",
    "file = open('./c_text.txt','wb')\n",
    "file.write(OFB_encrypted_message)\n",
    "file.close()\n",
    "\n",
    "\n",
    "\n",
    "# 接收到后解密得到密钥\n",
    "plain_key = decrypt(enc_key, private_key_pair)\n",
    "\n",
    "file = open('./c_text.txt','rb')\n",
    "encrypted_message = file.read()\n",
    "file.close()\n",
    "print(plain_key)\n",
    "decrypted_message = OFB_encrypt_or_decrypt(plain_key,17,encrypted_message)\n",
    "\n",
    "file = open('./p1_text.txt','wb')\n",
    "file.write(decrypted_message)\n",
    "file.close()\n",
    "\n",
    "# print(plain_message)\n",
    "# print(decrypted_message)\n",
    "assert decrypted_message == plain_message"
   ]
  }
 ],
 "metadata": {
  "kernelspec": {
   "display_name": "Python 3",
   "language": "python",
   "name": "python3"
  },
  "language_info": {
   "codemirror_mode": {
    "name": "ipython",
    "version": 3
   },
   "file_extension": ".py",
   "mimetype": "text/x-python",
   "name": "python",
   "nbconvert_exporter": "python",
   "pygments_lexer": "ipython3",
   "version": "3.12.0"
  }
 },
 "nbformat": 4,
 "nbformat_minor": 0
}
