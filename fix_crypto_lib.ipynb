{
 "cells": [
  {
   "cell_type": "code",
   "execution_count": 48,
   "metadata": {},
   "outputs": [
    {
     "name": "stdout",
     "output_type": "stream",
     "text": [
      "当前环境:c:\\Users\\celery\\scoop\\apps\\anaconda3\\current\\envs\\CTF37\n",
      "如果加密库出错，请将文件夹:\n",
      "c:\\Users\\celery\\scoop\\apps\\anaconda3\\current\\envs\\CTF37\\Lib\\site-packages\\crypto\n",
      "重命名为:\n",
      "c:\\Users\\celery\\scoop\\apps\\anaconda3\\current\\envs\\CTF37\\Lib\\site-packages\\Crypto\n"
     ]
    }
   ],
   "source": [
    "import sys\n",
    "from pathlib import Path\n",
    "print(\"当前环境:{}\".format(Path(sys.executable).parent))\n",
    "package = ((Path(sys.executable).parent.joinpath('Lib').joinpath('site-packages')))\n",
    "print(\"如果加密库出错，请将文件夹:\\n{}\\n重命名为:\\n{}\".format(package.joinpath('crypto'),\n",
    "package.joinpath('Crypto')))\n"
   ]
  }
 ],
 "metadata": {
  "language_info": {
   "name": "python"
  },
  "orig_nbformat": 4
 },
 "nbformat": 4,
 "nbformat_minor": 2
}
