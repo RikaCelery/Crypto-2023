{
 "cells": [
  {
   "attachments": {},
   "cell_type": "markdown",
   "metadata": {},
   "source": [
    "## 实现一个公钥密码算法。要求分别实现如下三个算法：\n",
    "1. 密钥生成算法\n",
    "2. 加密算法\n",
    "3. 解密算法\n",
    "4. 在RSA和MH中任选一个方案\n",
    "5. 要求采用大数运算，位数>=256bit"
   ]
  },
  {
   "attachments": {},
   "cell_type": "markdown",
   "metadata": {},
   "source": [
    "## Simple RSA\n",
    "\n",
    "最纯粹的RSA加密(x\n"
   ]
  },
  {
   "cell_type": "code",
   "execution_count": 7,
   "metadata": {
    "ExecuteTime": {
     "end_time": "2023-05-24T10:00:51.130034Z",
     "start_time": "2023-05-24T10:00:51.124034Z"
    }
   },
   "outputs": [],
   "source": [
    "from Crypto.Util.number import *\n",
    "import math\n",
    "import random\n",
    "\n",
    "\n",
    "def get_key_pair(bits):\n",
    "    p = getPrime(bits)\n",
    "    q = getPrime(bits)\n",
    "    n = p * q\n",
    "    phi = (p - 1) * (q - 1)\n",
    "    e = random.randrange(1, phi)\n",
    "    gcd = math.gcd(e, phi)\n",
    "    while gcd != 1:\n",
    "        e = random.randrange(1, phi)\n",
    "        gcd = math.gcd(e, phi)\n",
    "    d = inverse(e, phi)\n",
    "    return (e, n), (d, n)\n",
    "\n",
    "\n",
    "def encrypt(plain_text, public_key):\n",
    "    e, n = public_key\n",
    "    cipher_text_long:int = pow(bytes_to_long(plain_text), e, n)\n",
    "    cipher_text = hex(cipher_text_long)\n",
    "    return long_to_bytes(cipher_text_long)\n",
    "\n",
    "\n",
    "def decrypt(cipher_text_bytes, private_key):\n",
    "    d, n = private_key\n",
    "    cipher_text_long = bytes_to_long(cipher_text_bytes)\n",
    "    decrypted_bytes = long_to_bytes(pow(cipher_text_long, d, n))\n",
    "    return decrypted_bytes\n"
   ]
  },
  {
   "cell_type": "code",
   "execution_count": 10,
   "metadata": {
    "ExecuteTime": {
     "end_time": "2023-05-24T10:07:30.373394Z",
     "start_time": "2023-05-24T10:07:30.356737Z"
    },
    "collapsed": false
   },
   "outputs": [
    {
     "name": "stdout",
     "output_type": "stream",
     "text": [
      "Encrypted: b\"\\x17-\\xa9\\xa3\\xda\\xad'\\xc9o\\xf3G\\x03\\x99\\x1e1pj\\xbf\\xf99\\xb1q\\xac\\xd5\\xcf|nA\\\\\\xcaUMO\\xbd\\x96\\xe6\\x83Sp=a1\\xaf\\xf8O\\xf9\\x18bu\\xfe\\xa0\\xfb\\xfd\\xceZ\\xe3\\xab\\x01=KwJ\\xdc\\xf2\"\n",
      "Decrypted: happy crypto\n"
     ]
    }
   ],
   "source": [
    "# 生成密钥对\n",
    "public_key_pair, private_key_pair = get_key_pair(256)\n",
    "\n",
    "message = \"happy crypto\".encode()\n",
    "encrypted_message = encrypt(message, public_key_pair)\n",
    "print(\"Encrypted:\", encrypted_message)\n",
    "\n",
    "decrypted_message = decrypt(encrypted_message, private_key_pair)\n",
    "print(\"Decrypted:\", decrypted_message.decode())"
   ]
  }
 ],
 "metadata": {
  "kernelspec": {
   "display_name": "Python 3",
   "language": "python",
   "name": "python3"
  },
  "language_info": {
   "codemirror_mode": {
    "name": "ipython",
    "version": 3
   },
   "file_extension": ".py",
   "mimetype": "text/x-python",
   "name": "python",
   "nbconvert_exporter": "python",
   "pygments_lexer": "ipython3",
   "version": "3.7.16"
  },
  "orig_nbformat": 4
 },
 "nbformat": 4,
 "nbformat_minor": 2
}
